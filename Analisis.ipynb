{
 "cells": [
  {
   "cell_type": "markdown",
   "id": "e8a874ca-a12e-4210-9ec5-ac5cfb8d7830",
   "metadata": {},
   "source": [
    "## Introducción"
   ]
  },
  {
   "cell_type": "markdown",
   "id": "9d87eae8-dc68-4e70-aba7-89687c38001b",
   "metadata": {},
   "source": [
    "En el presente trabajo se propone realizar un análisis de los datos recolectados por una empresa en los últimos 2 meses sobre los clientes que fueron a ver la pelicula Frozen 3. La encuesta consistía en una serie de preguntas personales que concluía si el cliente volvería a ese cine si salía la secuela, Frozen 4.\n",
    "\n",
    "El objetivo de la empresa es poder dirigir futuras campañas de marketing digital en base a esta información recolectada."
   ]
  },
  {
   "cell_type": "markdown",
   "id": "1da80d14-2fe3-4cb8-8f7c-a829b8cbf19f",
   "metadata": {},
   "source": [
    "## Objetivos"
   ]
  },
  {
   "cell_type": "markdown",
   "id": "898b8d4a-f463-4283-869a-2110b3d8ecd9",
   "metadata": {},
   "source": [
    "El objetivo de este notebook es:\n",
    "*   Entender los datos\n",
    "*   Ver cómo los datos se relacionan entre si\n",
    "*   Poder sacar alguna conclusión o descubrir un patrón a partir de estos\n",
    "*   Indicar cuáles son los factores más importantes que determinan si un usuario va a ir al cine a ver Frozen 4 o no.\n",
    "*   Poder llegar a armar un baseline"
   ]
  },
  {
   "cell_type": "code",
   "execution_count": 1,
   "id": "055c6b9c-7795-4fae-b498-011b016dcf7f",
   "metadata": {},
   "outputs": [],
   "source": [
    "import pandas as pd\n",
    "import numpy as np\n",
    "import matplotlib.pyplot as plt\n",
    "import seaborn as sns"
   ]
  },
  {
   "cell_type": "code",
   "execution_count": 2,
   "id": "ad1e3f99-379b-4599-b7b1-c95d62b04e51",
   "metadata": {},
   "outputs": [],
   "source": [
    "from math import pi"
   ]
  },
  {
   "cell_type": "markdown",
   "id": "512a38ad-c8aa-47ed-9330-6e756a88b1a1",
   "metadata": {},
   "source": [
    "## Carga y limpieza del set de datos"
   ]
  },
  {
   "cell_type": "code",
   "execution_count": null,
   "id": "6e5c66a8-6943-4519-bbd8-5c6b5102ef07",
   "metadata": {},
   "outputs": [],
   "source": []
  },
  {
   "cell_type": "code",
   "execution_count": null,
   "id": "5fcbbb72-52ed-46e3-819c-19eb97863b1e",
   "metadata": {},
   "outputs": [],
   "source": []
  },
  {
   "cell_type": "code",
   "execution_count": null,
   "id": "556c10a8-3a71-49c5-9d50-2280eeac1515",
   "metadata": {},
   "outputs": [],
   "source": []
  },
  {
   "cell_type": "code",
   "execution_count": null,
   "id": "ff254ed4-e25a-41a5-9a45-4449bfc24e50",
   "metadata": {},
   "outputs": [],
   "source": []
  },
  {
   "cell_type": "code",
   "execution_count": null,
   "id": "8a3e28de-14a1-47fa-9748-c630f1ad824b",
   "metadata": {},
   "outputs": [],
   "source": []
  },
  {
   "cell_type": "code",
   "execution_count": null,
   "id": "e7d24b09-d2ec-42c4-91cc-dae99d07c985",
   "metadata": {},
   "outputs": [],
   "source": []
  },
  {
   "cell_type": "code",
   "execution_count": null,
   "id": "e4b413ad-67cf-48c7-b50c-ce80f9d0a5f2",
   "metadata": {},
   "outputs": [],
   "source": []
  },
  {
   "cell_type": "code",
   "execution_count": null,
   "id": "20eb9b6d-5376-4fd8-84f5-942b5c79c7d9",
   "metadata": {},
   "outputs": [],
   "source": []
  },
  {
   "cell_type": "code",
   "execution_count": null,
   "id": "b2c40af7-a0ce-4a4b-990c-d8f4eae5311b",
   "metadata": {},
   "outputs": [],
   "source": []
  },
  {
   "cell_type": "code",
   "execution_count": null,
   "id": "c1b4c274-ea2a-43f7-b4c8-48bf8893cd7c",
   "metadata": {},
   "outputs": [],
   "source": []
  },
  {
   "cell_type": "code",
   "execution_count": null,
   "id": "997d0eca-498a-46da-9209-b3d939aec3ff",
   "metadata": {},
   "outputs": [],
   "source": []
  },
  {
   "cell_type": "code",
   "execution_count": null,
   "id": "3676a672-167d-40ab-ae8e-1f5379bb6056",
   "metadata": {},
   "outputs": [],
   "source": []
  },
  {
   "cell_type": "code",
   "execution_count": null,
   "id": "d7351bee-d0a6-44b6-a587-23653f96f09b",
   "metadata": {},
   "outputs": [],
   "source": []
  },
  {
   "cell_type": "code",
   "execution_count": null,
   "id": "7e84c2a0-2ddd-474d-9a4d-3908ac9e011d",
   "metadata": {},
   "outputs": [],
   "source": []
  },
  {
   "cell_type": "code",
   "execution_count": null,
   "id": "e2049c5c-435f-4fc1-8016-75187f3bf92b",
   "metadata": {},
   "outputs": [],
   "source": []
  },
  {
   "cell_type": "code",
   "execution_count": null,
   "id": "7d95aea3-eaf5-434a-83e4-1781c6c4d14d",
   "metadata": {},
   "outputs": [],
   "source": []
  },
  {
   "cell_type": "code",
   "execution_count": null,
   "id": "2ca77b23-57cb-4152-bd99-1db4ffbd7739",
   "metadata": {},
   "outputs": [],
   "source": []
  },
  {
   "cell_type": "code",
   "execution_count": null,
   "id": "a0a91608-66d5-47ce-894d-b897f265836b",
   "metadata": {},
   "outputs": [],
   "source": []
  },
  {
   "cell_type": "code",
   "execution_count": null,
   "id": "16f079ee-a402-4317-863e-46e367fed7fb",
   "metadata": {},
   "outputs": [],
   "source": []
  },
  {
   "cell_type": "code",
   "execution_count": null,
   "id": "aa79f98b-583a-44d4-9984-d15500d33780",
   "metadata": {},
   "outputs": [],
   "source": []
  }
 ],
 "metadata": {
  "kernelspec": {
   "display_name": "Python 3",
   "language": "python",
   "name": "python3"
  },
  "language_info": {
   "codemirror_mode": {
    "name": "ipython",
    "version": 3
   },
   "file_extension": ".py",
   "mimetype": "text/x-python",
   "name": "python",
   "nbconvert_exporter": "python",
   "pygments_lexer": "ipython3",
   "version": "3.8.8"
  }
 },
 "nbformat": 4,
 "nbformat_minor": 5
}
