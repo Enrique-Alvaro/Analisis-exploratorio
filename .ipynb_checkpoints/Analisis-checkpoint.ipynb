{
 "cells": [
  {
   "cell_type": "markdown",
   "id": "e8a874ca-a12e-4210-9ec5-ac5cfb8d7830",
   "metadata": {},
   "source": [
    "## Introducción"
   ]
  },
  {
   "cell_type": "markdown",
   "id": "9d87eae8-dc68-4e70-aba7-89687c38001b",
   "metadata": {},
   "source": [
    "En el presente trabajo se propone realizar un análisis de los datos recolectados por una empresa en los últimos 2 meses sobre los clientes que fueron a ver la pelicula Frozen 3. La encuesta consistía en una serie de preguntas personales que concluía si el cliente volvería a ese cine si salía la secuela, Frozen 4.\n",
    "\n",
    "El objetivo de la empresa es poder dirigir futuras campañas de marketing digital en base a esta información recolectada."
   ]
  },
  {
   "cell_type": "markdown",
   "id": "1da80d14-2fe3-4cb8-8f7c-a829b8cbf19f",
   "metadata": {},
   "source": [
    "## Objetivos"
   ]
  },
  {
   "cell_type": "markdown",
   "id": "898b8d4a-f463-4283-869a-2110b3d8ecd9",
   "metadata": {},
   "source": [
    "El objetivo de este notebook es:\n",
    "*   Entender los datos\n",
    "*   Ver cómo los datos se relacionan entre si\n",
    "*   Poder sacar alguna conclusión o descubrir un patrón a partir de estos\n",
    "*   Indicar cuáles son los factores más importantes que determinan si un usuario va a ir al cine a ver Frozen 4 o no.\n",
    "*   Poder llegar a armar un baseline"
   ]
  },
  {
   "cell_type": "code",
   "execution_count": 1,
   "id": "055c6b9c-7795-4fae-b498-011b016dcf7f",
   "metadata": {},
   "outputs": [],
   "source": [
    "import pandas as pd\n",
    "import numpy as np\n",
    "import matplotlib.pyplot as plt\n",
    "import seaborn as sns"
   ]
  },
  {
   "cell_type": "code",
   "execution_count": 2,
   "id": "ad1e3f99-379b-4599-b7b1-c95d62b04e51",
   "metadata": {},
   "outputs": [],
   "source": [
    "from math import pi"
   ]
  },
  {
   "cell_type": "markdown",
   "id": "512a38ad-c8aa-47ed-9330-6e756a88b1a1",
   "metadata": {},
   "source": [
    "## Carga y limpieza del set de datos"
   ]
  },
  {
   "cell_type": "code",
   "execution_count": 65,
   "id": "6e5c66a8-6943-4519-bbd8-5c6b5102ef07",
   "metadata": {},
   "outputs": [
    {
     "data": {
      "text/html": [
       "<div>\n",
       "<style scoped>\n",
       "    .dataframe tbody tr th:only-of-type {\n",
       "        vertical-align: middle;\n",
       "    }\n",
       "\n",
       "    .dataframe tbody tr th {\n",
       "        vertical-align: top;\n",
       "    }\n",
       "\n",
       "    .dataframe thead th {\n",
       "        text-align: right;\n",
       "    }\n",
       "</style>\n",
       "<table border=\"1\" class=\"dataframe\">\n",
       "  <thead>\n",
       "    <tr style=\"text-align: right;\">\n",
       "      <th></th>\n",
       "      <th>id_usuario</th>\n",
       "      <th>volveria</th>\n",
       "    </tr>\n",
       "  </thead>\n",
       "  <tbody>\n",
       "    <tr>\n",
       "      <th>0</th>\n",
       "      <td>117</td>\n",
       "      <td>0</td>\n",
       "    </tr>\n",
       "    <tr>\n",
       "      <th>1</th>\n",
       "      <td>658</td>\n",
       "      <td>0</td>\n",
       "    </tr>\n",
       "    <tr>\n",
       "      <th>2</th>\n",
       "      <td>794</td>\n",
       "      <td>0</td>\n",
       "    </tr>\n",
       "    <tr>\n",
       "      <th>3</th>\n",
       "      <td>455</td>\n",
       "      <td>0</td>\n",
       "    </tr>\n",
       "    <tr>\n",
       "      <th>4</th>\n",
       "      <td>173</td>\n",
       "      <td>1</td>\n",
       "    </tr>\n",
       "  </tbody>\n",
       "</table>\n",
       "</div>"
      ],
      "text/plain": [
       "   id_usuario  volveria\n",
       "0         117         0\n",
       "1         658         0\n",
       "2         794         0\n",
       "3         455         0\n",
       "4         173         1"
      ]
     },
     "execution_count": 65,
     "metadata": {},
     "output_type": "execute_result"
    }
   ],
   "source": [
    "usuario_volveria_df = pd.read_csv(r'C:\\Users\\Enrique\\Desktop\\analisis\\Datasets\\tp-2020-2c-train-cols1.csv')\n",
    "usuario_volveria_df.head()"
   ]
  },
  {
   "cell_type": "code",
   "execution_count": 66,
   "id": "5fcbbb72-52ed-46e3-819c-19eb97863b1e",
   "metadata": {},
   "outputs": [
    {
     "data": {
      "text/html": [
       "<div>\n",
       "<style scoped>\n",
       "    .dataframe tbody tr th:only-of-type {\n",
       "        vertical-align: middle;\n",
       "    }\n",
       "\n",
       "    .dataframe tbody tr th {\n",
       "        vertical-align: top;\n",
       "    }\n",
       "\n",
       "    .dataframe thead th {\n",
       "        text-align: right;\n",
       "    }\n",
       "</style>\n",
       "<table border=\"1\" class=\"dataframe\">\n",
       "  <thead>\n",
       "    <tr style=\"text-align: right;\">\n",
       "      <th></th>\n",
       "      <th>tipo_de_sala</th>\n",
       "      <th>nombre</th>\n",
       "      <th>id_usuario</th>\n",
       "      <th>genero</th>\n",
       "      <th>edad</th>\n",
       "      <th>amigos</th>\n",
       "      <th>parientes</th>\n",
       "      <th>id_ticket</th>\n",
       "      <th>precio_ticket</th>\n",
       "      <th>fila</th>\n",
       "      <th>nombre_sede</th>\n",
       "    </tr>\n",
       "  </thead>\n",
       "  <tbody>\n",
       "    <tr>\n",
       "      <th>0</th>\n",
       "      <td>4d</td>\n",
       "      <td>Señor Camilo Pedro</td>\n",
       "      <td>117</td>\n",
       "      <td>hombre</td>\n",
       "      <td>73.5</td>\n",
       "      <td>0</td>\n",
       "      <td>0</td>\n",
       "      <td>59258;</td>\n",
       "      <td>1</td>\n",
       "      <td>NaN</td>\n",
       "      <td>fiumark_quilmes</td>\n",
       "    </tr>\n",
       "    <tr>\n",
       "      <th>1</th>\n",
       "      <td>4d</td>\n",
       "      <td>Señora Raquel Angelica</td>\n",
       "      <td>658</td>\n",
       "      <td>mujer</td>\n",
       "      <td>35.0</td>\n",
       "      <td>1</td>\n",
       "      <td>1</td>\n",
       "      <td>586:6;</td>\n",
       "      <td>2</td>\n",
       "      <td>NaN</td>\n",
       "      <td>fiumark_quilmes</td>\n",
       "    </tr>\n",
       "    <tr>\n",
       "      <th>2</th>\n",
       "      <td>normal</td>\n",
       "      <td>Señor Antonio Federico</td>\n",
       "      <td>794</td>\n",
       "      <td>hombre</td>\n",
       "      <td>NaN</td>\n",
       "      <td>0</td>\n",
       "      <td>0</td>\n",
       "      <td>RE\"39822</td>\n",
       "      <td>3</td>\n",
       "      <td>NaN</td>\n",
       "      <td>fiumark_chacarita</td>\n",
       "    </tr>\n",
       "    <tr>\n",
       "      <th>3</th>\n",
       "      <td>4d</td>\n",
       "      <td>Señor Osvaldo Aureliano</td>\n",
       "      <td>455</td>\n",
       "      <td>hombre</td>\n",
       "      <td>NaN</td>\n",
       "      <td>0</td>\n",
       "      <td>0</td>\n",
       "      <td>C17\"4:39</td>\n",
       "      <td>1</td>\n",
       "      <td>NaN</td>\n",
       "      <td>fiumark_palermo</td>\n",
       "    </tr>\n",
       "    <tr>\n",
       "      <th>4</th>\n",
       "      <td>4d</td>\n",
       "      <td>Señorita Rita Eudosia</td>\n",
       "      <td>173</td>\n",
       "      <td>mujer</td>\n",
       "      <td>4.0</td>\n",
       "      <td>1</td>\n",
       "      <td>1</td>\n",
       "      <td>569964</td>\n",
       "      <td>2</td>\n",
       "      <td>NaN</td>\n",
       "      <td>fiumark_palermo</td>\n",
       "    </tr>\n",
       "  </tbody>\n",
       "</table>\n",
       "</div>"
      ],
      "text/plain": [
       "  tipo_de_sala                   nombre  id_usuario  genero  edad  amigos  \\\n",
       "0           4d       Señor Camilo Pedro         117  hombre  73.5       0   \n",
       "1           4d   Señora Raquel Angelica         658   mujer  35.0       1   \n",
       "2       normal   Señor Antonio Federico         794  hombre   NaN       0   \n",
       "3           4d  Señor Osvaldo Aureliano         455  hombre   NaN       0   \n",
       "4           4d    Señorita Rita Eudosia         173   mujer   4.0       1   \n",
       "\n",
       "   parientes id_ticket  precio_ticket fila        nombre_sede  \n",
       "0          0    59258;              1  NaN    fiumark_quilmes  \n",
       "1          1    586:6;              2  NaN    fiumark_quilmes  \n",
       "2          0  RE\"39822              3  NaN  fiumark_chacarita  \n",
       "3          0  C17\"4:39              1  NaN    fiumark_palermo  \n",
       "4          1    569964              2  NaN    fiumark_palermo  "
      ]
     },
     "execution_count": 66,
     "metadata": {},
     "output_type": "execute_result"
    }
   ],
   "source": [
    "info_fiumark_df = pd.read_csv(r'C:\\Users\\Enrique\\Desktop\\analisis\\Datasets\\tp-2020-2c-train-cols2.csv')\n",
    "info_fiumark_df.head()"
   ]
  },
  {
   "cell_type": "markdown",
   "id": "2441d47e-1c63-4992-9963-a7a8cb191bbe",
   "metadata": {},
   "source": [
    "### df volveria"
   ]
  },
  {
   "cell_type": "code",
   "execution_count": 67,
   "id": "556c10a8-3a71-49c5-9d50-2280eeac1515",
   "metadata": {},
   "outputs": [
    {
     "name": "stdout",
     "output_type": "stream",
     "text": [
      "<class 'pandas.core.frame.DataFrame'>\n",
      "RangeIndex: 801 entries, 0 to 800\n",
      "Data columns (total 2 columns):\n",
      " #   Column      Non-Null Count  Dtype\n",
      "---  ------      --------------  -----\n",
      " 0   id_usuario  801 non-null    int64\n",
      " 1   volveria    801 non-null    int64\n",
      "dtypes: int64(2)\n",
      "memory usage: 12.6 KB\n"
     ]
    }
   ],
   "source": [
    "usuario_volveria_df.info()"
   ]
  },
  {
   "cell_type": "markdown",
   "id": "e404a07b-ad9a-48c1-b344-a553408609f4",
   "metadata": {},
   "source": [
    "Notamos que la columna de 'volveria' es de tipo int64, cuando solamente tiene valores que pueden ser 0 o 1. Un mejor tipo de dato para este caso puede ser un int8. Esto permitiría ahorrar memoria. (Aunque en este caso no sean muchos datos)"
   ]
  },
  {
   "cell_type": "code",
   "execution_count": 68,
   "id": "8a3e28de-14a1-47fa-9748-c630f1ad824b",
   "metadata": {},
   "outputs": [],
   "source": [
    "usuario_volveria_df['volveria'] = usuario_volveria_df['volveria'].astype(np.int8)"
   ]
  },
  {
   "cell_type": "markdown",
   "id": "cf05f885-c76d-4a4f-9a12-991be4941a38",
   "metadata": {},
   "source": [
    "Observamos que no tenemos valores nulos"
   ]
  },
  {
   "cell_type": "code",
   "execution_count": 70,
   "id": "20eb9b6d-5376-4fd8-84f5-942b5c79c7d9",
   "metadata": {},
   "outputs": [
    {
     "data": {
      "text/plain": [
       "id_usuario    0\n",
       "volveria      0\n",
       "dtype: int64"
      ]
     },
     "execution_count": 70,
     "metadata": {},
     "output_type": "execute_result"
    }
   ],
   "source": [
    "usuario_volveria_df.isnull().sum()"
   ]
  },
  {
   "cell_type": "markdown",
   "id": "6652f466-2967-49f4-89bc-d5657cb2b56d",
   "metadata": {},
   "source": [
    "### info_fiumark_df"
   ]
  },
  {
   "cell_type": "markdown",
   "id": "e0ac86fb-3f3c-42b5-9f7d-677189d0a26f",
   "metadata": {},
   "source": [
    "Notamos una gran cantidad de valores nulos en la columna \"fila\" y algunos en \"edad\" y \"nombre_sede\". Como las columnas que tienen los valores nulos pueden llegar a ser relevantes para el análisis, siendo este el caso de las columnas \"fila\" y \"edad\" decidimos crear la categoría \"No responde\" para el caso de \"fila\"."
   ]
  },
  {
   "cell_type": "code",
   "execution_count": 71,
   "id": "997d0eca-498a-46da-9209-b3d939aec3ff",
   "metadata": {},
   "outputs": [
    {
     "data": {
      "text/plain": [
       "tipo_de_sala       0\n",
       "nombre             0\n",
       "id_usuario         0\n",
       "genero             0\n",
       "edad             160\n",
       "amigos             0\n",
       "parientes          0\n",
       "id_ticket          0\n",
       "precio_ticket      0\n",
       "fila             624\n",
       "nombre_sede        2\n",
       "dtype: int64"
      ]
     },
     "execution_count": 71,
     "metadata": {},
     "output_type": "execute_result"
    }
   ],
   "source": [
    "info_fiumark_df.isnull().sum()"
   ]
  },
  {
   "cell_type": "code",
   "execution_count": 72,
   "id": "3676a672-167d-40ab-ae8e-1f5379bb6056",
   "metadata": {},
   "outputs": [],
   "source": [
    "info_fiumark_df['fila'].fillna(\"No responde\",inplace=True)"
   ]
  },
  {
   "cell_type": "markdown",
   "id": "20a15588-6038-4b97-87e7-7b999c6a1a74",
   "metadata": {},
   "source": [
    "Ahora vemos la cantidad de valores únicos para las columnas de tipo objeto, para poder determinar a cuales les correspondería tener un tipo categórico."
   ]
  },
  {
   "cell_type": "code",
   "execution_count": 73,
   "id": "7e84c2a0-2ddd-474d-9a4d-3908ac9e011d",
   "metadata": {},
   "outputs": [
    {
     "data": {
      "text/plain": [
       "tipo_de_sala      3\n",
       "nombre          801\n",
       "genero            2\n",
       "id_ticket       635\n",
       "fila              3\n",
       "nombre_sede       3\n",
       "dtype: int64"
      ]
     },
     "execution_count": 73,
     "metadata": {},
     "output_type": "execute_result"
    }
   ],
   "source": [
    "info_fiumark_df.select_dtypes(include=['object']).nunique()"
   ]
  },
  {
   "cell_type": "code",
   "execution_count": 74,
   "id": "e2049c5c-435f-4fc1-8016-75187f3bf92b",
   "metadata": {},
   "outputs": [],
   "source": [
    "info_fiumark_df[\"tipo_de_sala\"] = info_fiumark_df[\"tipo_de_sala\"].astype(\"category\")\n",
    "info_fiumark_df[\"genero\"] = info_fiumark_df[\"genero\"].astype(\"category\")\n",
    "info_fiumark_df[\"nombre_sede\"] = info_fiumark_df[\"nombre_sede\"].astype(\"category\")\n",
    "info_fiumark_df[\"fila\"] = info_fiumark_df[\"fila\"].astype(\"category\")"
   ]
  },
  {
   "cell_type": "markdown",
   "id": "e2f89467-6427-4371-8f11-1f472cc81ae4",
   "metadata": {},
   "source": [
    "Otra cosa que observamos es que las edades están en formato de float, lo cual nos resultó llamativo, por lo que decidimos cortar los valores, llevándolos al piso."
   ]
  },
  {
   "cell_type": "code",
   "execution_count": 75,
   "id": "2ca77b23-57cb-4152-bd99-1db4ffbd7739",
   "metadata": {},
   "outputs": [
    {
     "data": {
      "text/plain": [
       "27.00    28\n",
       "22.00    25\n",
       "25.00    25\n",
       "31.00    23\n",
       "21.00    23\n",
       "         ..\n",
       "77.00     1\n",
       "27.50     1\n",
       "3.67      1\n",
       "58.50     1\n",
       "26.50     1\n",
       "Name: edad, Length: 84, dtype: int64"
      ]
     },
     "execution_count": 75,
     "metadata": {},
     "output_type": "execute_result"
    }
   ],
   "source": [
    "info_fiumark_df['edad'].value_counts()"
   ]
  },
  {
   "cell_type": "code",
   "execution_count": 76,
   "id": "a0a91608-66d5-47ce-894d-b897f265836b",
   "metadata": {},
   "outputs": [],
   "source": [
    "info_fiumark_df['edad'] = info_fiumark_df['edad'].apply(np.floor)"
   ]
  },
  {
   "cell_type": "code",
   "execution_count": 77,
   "id": "16f079ee-a402-4317-863e-46e367fed7fb",
   "metadata": {},
   "outputs": [
    {
     "data": {
      "text/plain": [
       "27.0    29\n",
       "22.0    25\n",
       "25.0    25\n",
       "31.0    24\n",
       "33.0    24\n",
       "        ..\n",
       "62.0     1\n",
       "83.0     1\n",
       "15.0     1\n",
       "69.0     1\n",
       "66.0     1\n",
       "Name: edad, Length: 71, dtype: int64"
      ]
     },
     "execution_count": 77,
     "metadata": {},
     "output_type": "execute_result"
    }
   ],
   "source": [
    "info_fiumark_df['edad'].value_counts()"
   ]
  },
  {
   "cell_type": "markdown",
   "id": "befa7473-ea68-43fe-bfbf-a093b0ff5d37",
   "metadata": {},
   "source": [
    "Pudimos observar que una parte en la columna de 'edad' tiene valores faltantes. Lo que decidimos hacer fue utilizar la columna 'nombre', que incluye sufijos como 'Señora' o 'Señorita' para rellenar el valor de edad.\n",
    "\n",
    "Lo primero que hacemos es crear una nueva columna 'sufijo' a partir de los valores de nombres anteriores."
   ]
  },
  {
   "cell_type": "code",
   "execution_count": 78,
   "id": "b271a0b4-8fdd-41f5-b45d-a94405bcd9e6",
   "metadata": {},
   "outputs": [],
   "source": [
    "sufijos_y_nombres = info_fiumark_df.nombre.str.split(pat = ' ', n= 1,expand = True)\n",
    "sufijos_y_nombres.columns = ['sufijo', 'nombre']"
   ]
  },
  {
   "cell_type": "code",
   "execution_count": 79,
   "id": "a315e9c1-e602-4184-9a3c-f268b3bd0c53",
   "metadata": {},
   "outputs": [],
   "source": [
    "info_fiumark_df.drop('nombre', axis = 1, inplace = True)"
   ]
  },
  {
   "cell_type": "code",
   "execution_count": 80,
   "id": "db40a746-5429-4ce9-a1c2-7891e8d466e5",
   "metadata": {},
   "outputs": [],
   "source": [
    "info_fiumark_df = pd.concat([ sufijos_y_nombres, info_fiumark_df ], axis = 'columns')"
   ]
  },
  {
   "cell_type": "code",
   "execution_count": 82,
   "id": "b4c39085-0a99-478c-89dd-04b8ffd921ee",
   "metadata": {},
   "outputs": [
    {
     "data": {
      "text/html": [
       "<div>\n",
       "<style scoped>\n",
       "    .dataframe tbody tr th:only-of-type {\n",
       "        vertical-align: middle;\n",
       "    }\n",
       "\n",
       "    .dataframe tbody tr th {\n",
       "        vertical-align: top;\n",
       "    }\n",
       "\n",
       "    .dataframe thead th {\n",
       "        text-align: right;\n",
       "    }\n",
       "</style>\n",
       "<table border=\"1\" class=\"dataframe\">\n",
       "  <thead>\n",
       "    <tr style=\"text-align: right;\">\n",
       "      <th></th>\n",
       "      <th>sufijo</th>\n",
       "      <th>nombre</th>\n",
       "      <th>tipo_de_sala</th>\n",
       "      <th>id_usuario</th>\n",
       "      <th>genero</th>\n",
       "      <th>edad</th>\n",
       "      <th>amigos</th>\n",
       "      <th>parientes</th>\n",
       "      <th>id_ticket</th>\n",
       "      <th>precio_ticket</th>\n",
       "      <th>fila</th>\n",
       "      <th>nombre_sede</th>\n",
       "    </tr>\n",
       "  </thead>\n",
       "  <tbody>\n",
       "    <tr>\n",
       "      <th>0</th>\n",
       "      <td>Señor</td>\n",
       "      <td>Camilo Pedro</td>\n",
       "      <td>4d</td>\n",
       "      <td>117</td>\n",
       "      <td>hombre</td>\n",
       "      <td>73.0</td>\n",
       "      <td>0</td>\n",
       "      <td>0</td>\n",
       "      <td>59258;</td>\n",
       "      <td>1</td>\n",
       "      <td>No responde</td>\n",
       "      <td>fiumark_quilmes</td>\n",
       "    </tr>\n",
       "    <tr>\n",
       "      <th>1</th>\n",
       "      <td>Señora</td>\n",
       "      <td>Raquel Angelica</td>\n",
       "      <td>4d</td>\n",
       "      <td>658</td>\n",
       "      <td>mujer</td>\n",
       "      <td>35.0</td>\n",
       "      <td>1</td>\n",
       "      <td>1</td>\n",
       "      <td>586:6;</td>\n",
       "      <td>2</td>\n",
       "      <td>No responde</td>\n",
       "      <td>fiumark_quilmes</td>\n",
       "    </tr>\n",
       "    <tr>\n",
       "      <th>2</th>\n",
       "      <td>Señor</td>\n",
       "      <td>Antonio Federico</td>\n",
       "      <td>normal</td>\n",
       "      <td>794</td>\n",
       "      <td>hombre</td>\n",
       "      <td>NaN</td>\n",
       "      <td>0</td>\n",
       "      <td>0</td>\n",
       "      <td>RE\"39822</td>\n",
       "      <td>3</td>\n",
       "      <td>No responde</td>\n",
       "      <td>fiumark_chacarita</td>\n",
       "    </tr>\n",
       "    <tr>\n",
       "      <th>3</th>\n",
       "      <td>Señor</td>\n",
       "      <td>Osvaldo Aureliano</td>\n",
       "      <td>4d</td>\n",
       "      <td>455</td>\n",
       "      <td>hombre</td>\n",
       "      <td>NaN</td>\n",
       "      <td>0</td>\n",
       "      <td>0</td>\n",
       "      <td>C17\"4:39</td>\n",
       "      <td>1</td>\n",
       "      <td>No responde</td>\n",
       "      <td>fiumark_palermo</td>\n",
       "    </tr>\n",
       "    <tr>\n",
       "      <th>4</th>\n",
       "      <td>Señorita</td>\n",
       "      <td>Rita Eudosia</td>\n",
       "      <td>4d</td>\n",
       "      <td>173</td>\n",
       "      <td>mujer</td>\n",
       "      <td>4.0</td>\n",
       "      <td>1</td>\n",
       "      <td>1</td>\n",
       "      <td>569964</td>\n",
       "      <td>2</td>\n",
       "      <td>No responde</td>\n",
       "      <td>fiumark_palermo</td>\n",
       "    </tr>\n",
       "  </tbody>\n",
       "</table>\n",
       "</div>"
      ],
      "text/plain": [
       "     sufijo             nombre tipo_de_sala  id_usuario  genero  edad  amigos  \\\n",
       "0     Señor       Camilo Pedro           4d         117  hombre  73.0       0   \n",
       "1    Señora    Raquel Angelica           4d         658   mujer  35.0       1   \n",
       "2     Señor   Antonio Federico       normal         794  hombre   NaN       0   \n",
       "3     Señor  Osvaldo Aureliano           4d         455  hombre   NaN       0   \n",
       "4  Señorita       Rita Eudosia           4d         173   mujer   4.0       1   \n",
       "\n",
       "   parientes id_ticket  precio_ticket         fila        nombre_sede  \n",
       "0          0    59258;              1  No responde    fiumark_quilmes  \n",
       "1          1    586:6;              2  No responde    fiumark_quilmes  \n",
       "2          0  RE\"39822              3  No responde  fiumark_chacarita  \n",
       "3          0  C17\"4:39              1  No responde    fiumark_palermo  \n",
       "4          1    569964              2  No responde    fiumark_palermo  "
      ]
     },
     "execution_count": 82,
     "metadata": {},
     "output_type": "execute_result"
    }
   ],
   "source": [
    "info_fiumark_df.head()"
   ]
  },
  {
   "cell_type": "markdown",
   "id": "a1930436-7be1-4d46-87a9-293f99669e71",
   "metadata": {},
   "source": [
    "Ahora reemplazamos la edad de las 'Señoras' que no contestaron la edad por la mediana de las que sí contestaron. Hacemos lo mismo para las 'Señoritas'.\n",
    "\n",
    "Ademas creamos una columna 'autocompletamos_edad' para indicar cuáles de estas edades fueron completadas por nosotros."
   ]
  },
  {
   "cell_type": "code",
   "execution_count": 83,
   "id": "dd7bd3f3-7236-4089-8cf0-4db31bcd1d64",
   "metadata": {},
   "outputs": [],
   "source": [
    "mediana_edad_senioras = info_fiumark_df[info_fiumark_df['sufijo'] == 'Señora'].edad.dropna().median()\n",
    "mediana_edad_senioritas = info_fiumark_df[info_fiumark_df['sufijo'] == 'Señorita'].edad.dropna().median()"
   ]
  },
  {
   "cell_type": "code",
   "execution_count": 84,
   "id": "817bafba-911f-4981-8778-da402f1d5117",
   "metadata": {},
   "outputs": [],
   "source": [
    "info_fiumark_df['autocompletamos_edad'] = False"
   ]
  },
  {
   "cell_type": "code",
   "execution_count": 86,
   "id": "926ef0a8-a4de-4862-b65e-6cd2890b4494",
   "metadata": {},
   "outputs": [],
   "source": [
    "info_fiumark_df.loc[(info_fiumark_df['sufijo'] == 'Señora') & (info_fiumark_df['edad'].isnull()),'autocompletamos_edad'] = True\n",
    "info_fiumark_df.loc[(info_fiumark_df['sufijo'] == 'Señorita') & (info_fiumark_df['edad'].isnull()),'autocompletamos_edad'] = True"
   ]
  },
  {
   "cell_type": "code",
   "execution_count": 90,
   "id": "1dfee16f-b4b2-461c-ae8c-874082b2fc82",
   "metadata": {},
   "outputs": [
    {
     "data": {
      "text/plain": [
       "False    755\n",
       "True      46\n",
       "Name: autocompletamos_edad, dtype: int64"
      ]
     },
     "execution_count": 90,
     "metadata": {},
     "output_type": "execute_result"
    }
   ],
   "source": [
    "info_fiumark_df['autocompletamos_edad'].value_counts()"
   ]
  },
  {
   "cell_type": "code",
   "execution_count": 92,
   "id": "6ed0efdb-10ba-4e03-80eb-a2418124597c",
   "metadata": {},
   "outputs": [],
   "source": [
    "info_fiumark_df.loc[info_fiumark_df['sufijo'] == 'Señorita','edad'] = info_fiumark_df.loc[info_fiumark_df['sufijo'] == 'Señorita','edad'].fillna(mediana_edad_senioritas)\n",
    "info_fiumark_df.loc[info_fiumark_df['sufijo'] == 'Señora','edad'] = info_fiumark_df.loc[info_fiumark_df['sufijo'] == 'Señora','edad'].fillna(mediana_edad_senioras) "
   ]
  },
  {
   "cell_type": "code",
   "execution_count": null,
   "id": "34e8fd3c-f1b4-49d4-b478-8156161083e2",
   "metadata": {},
   "outputs": [],
   "source": []
  }
 ],
 "metadata": {
  "kernelspec": {
   "display_name": "Python 3",
   "language": "python",
   "name": "python3"
  },
  "language_info": {
   "codemirror_mode": {
    "name": "ipython",
    "version": 3
   },
   "file_extension": ".py",
   "mimetype": "text/x-python",
   "name": "python",
   "nbconvert_exporter": "python",
   "pygments_lexer": "ipython3",
   "version": "3.8.8"
  }
 },
 "nbformat": 4,
 "nbformat_minor": 5
}
